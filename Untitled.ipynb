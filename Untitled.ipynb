{
 "cells": [
  {
   "cell_type": "markdown",
   "metadata": {},
   "source": [
    "## What is this?\n",
    "\n",
    "This is a fast implementation of Pentti Kanerva's [Sparse Distributed Memory (SDM)](https://en.wikipedia.org/wiki/Sparse_distributed_memory). `sdmlib` is written in Python using [`numpy`](https://numpy.org)."
   ]
  },
  {
   "cell_type": "markdown",
   "metadata": {},
   "source": [
    "## Installation\n",
    "\n",
    "The package is available through PyPi:\n",
    "```sh\n",
    "pip install sdmlib\n",
    "```"
   ]
  },
  {
   "cell_type": "markdown",
   "metadata": {},
   "source": [
    "## Using `sdmlib`\n",
    "\n",
    "`sdmlib` is designed to operate on `numpy` arrays."
   ]
  },
  {
   "cell_type": "markdown",
   "metadata": {},
   "source": [
    "### The `Memory` class\n",
    "\n",
    "This class provides the main functionality of SDM.\n",
    "\n",
    "|Parameter|Description|\n",
    "|:-:|:-:|\n",
    "|`N`|Length of addresses in bits|\n",
    "|`M`|Number of hard addresses|\n",
    "|`U`|Length of data in bits|\n",
    "|`d`|Hamming radius of addresses considered \"near\" for reading and writing. If `None`, then it is computed using T|\n",
    "|`T`|(Default: `None`) Number of data points to be written. Ignored if `d` is provided. If `T` is `None` then `d` must be provided. `d` and `T` cannot both be `None`|\n",
    "|`seed`|Seed the random number generator (for reproducability)|"
   ]
  },
  {
   "cell_type": "code",
   "execution_count": 2,
   "metadata": {},
   "outputs": [
    {
     "ename": "ModuleNotFoundError",
     "evalue": "No module named 'numpy'",
     "output_type": "error",
     "traceback": [
      "\u001b[0;31m---------------------------------------------------------------------------\u001b[0m",
      "\u001b[0;31mModuleNotFoundError\u001b[0m                       Traceback (most recent call last)",
      "\u001b[0;32m<ipython-input-2-00d346c95878>\u001b[0m in \u001b[0;36m<module>\u001b[0;34m\u001b[0m\n\u001b[0;32m----> 1\u001b[0;31m \u001b[0;32mimport\u001b[0m \u001b[0mnumpy\u001b[0m \u001b[0;32mas\u001b[0m \u001b[0mnp\u001b[0m\u001b[0;34m\u001b[0m\u001b[0;34m\u001b[0m\u001b[0m\n\u001b[0m\u001b[1;32m      2\u001b[0m \u001b[0;32mfrom\u001b[0m \u001b[0msdmlib\u001b[0m \u001b[0;32mimport\u001b[0m \u001b[0mMemory\u001b[0m\u001b[0;34m\u001b[0m\u001b[0;34m\u001b[0m\u001b[0m\n\u001b[1;32m      3\u001b[0m \u001b[0;34m\u001b[0m\u001b[0m\n\u001b[1;32m      4\u001b[0m \u001b[0mN\u001b[0m \u001b[0;34m=\u001b[0m \u001b[0;36m256\u001b[0m\u001b[0;34m\u001b[0m\u001b[0;34m\u001b[0m\u001b[0m\n\u001b[1;32m      5\u001b[0m \u001b[0mM\u001b[0m \u001b[0;34m=\u001b[0m \u001b[0;36m1000\u001b[0m\u001b[0;34m\u001b[0m\u001b[0;34m\u001b[0m\u001b[0m\n",
      "\u001b[0;31mModuleNotFoundError\u001b[0m: No module named 'numpy'"
     ]
    }
   ],
   "source": [
    "import numpy as np\n",
    "from sdmlib import Memory\n",
    "\n",
    "N = 256\n",
    "M = 1000\n",
    "U = 256\n",
    "T = 100\n",
    "\n",
    "addresses =  np.random.randint(low=0, high=2, size=(T, N), dtype=np.uint8)\n",
    "data      =  np.random.randint(low=0, high=2, size=(T, U), dtype=np.uint8)\n",
    "\n",
    "mem = Memory(N=N, M=M, U=U, d=None, T=T)\n",
    "\n",
    "for t in range(T):\n",
    "    mem.write(addresses[t], data[t])\n",
    "\n",
    "error = 0\n",
    "for t in range(T):\n",
    "    error += np.mean(data[t] != mem.read(addresses[t]))/T\n",
    "print(f'Reconstruction error: {100*error:.2f}%')"
   ]
  },
  {
   "cell_type": "markdown",
   "metadata": {},
   "source": [
    "#### The `write` method\n",
    "Write a binary string to memory.\n",
    "\n",
    "|Parameter|Description|\n",
    "|:-:|:-:|\n",
    "|`x`|Address. Binary numpy array of shape `(N,)`|\n",
    "|`w`|Data. Binary numpy array of shape `(U,)`|\n",
    "\n",
    "#### The `read` method\n",
    "Read a binary string from memory.\n",
    "\n",
    "|Parameter|Description|\n",
    "|:-:|:-:|\n",
    "|`x`|Address. Binary numpy array of shape `(N,)`|\n",
    "\n",
    "|Returns|Description|\n",
    "|:-:|:-:|\n",
    "|`z`|Data. Binary numpy array of shape `(U,)`|"
   ]
  },
  {
   "cell_type": "code",
   "execution_count": null,
   "metadata": {},
   "outputs": [],
   "source": []
  }
 ],
 "metadata": {
  "kernelspec": {
   "display_name": "Python 3",
   "language": "python",
   "name": "python3"
  },
  "language_info": {
   "codemirror_mode": {
    "name": "ipython",
    "version": 3
   },
   "file_extension": ".py",
   "mimetype": "text/x-python",
   "name": "python",
   "nbconvert_exporter": "python",
   "pygments_lexer": "ipython3",
   "version": "3.7.6"
  }
 },
 "nbformat": 4,
 "nbformat_minor": 4
}
